{
 "cells": [
  {
   "cell_type": "markdown",
   "metadata": {},
   "source": [
    "- 参考 : https://docs.python.org/ja/3/library/functions.html\n",
    "- 参考 : https://qiita.com/ichi_taro3/items/c866b7124415464e8ef1\n",
    "- ネタ : https://qiita.com/youwht/items/b047225a6fc356fd56ee#%E8%AA%B0%E3%81%A7%E3%82%82%E7%B0%A1%E5%8D%98%E3%81%AB%E3%83%A9%E3%82%A4%E3%83%96%E3%82%B3%E3%83%BC%E3%83%87%E3%82%A3%E3%83%B3%E3%82%B0%E3%81%A3%E3%81%BD%E3%81%8F%E8%A6%8B%E3%81%9B%E3%81%8B%E3%81%91%E3%82%8B%E6%89%8B%E5%93%81"
   ]
  },
  {
   "cell_type": "code",
   "execution_count": 3,
   "metadata": {},
   "outputs": [],
   "source": [
    "list_1 = [1, 2, 3]\n",
    "\n",
    "assert all(list_1)\n",
    "assert all([])\n",
    "assert not all([None])"
   ]
  },
  {
   "cell_type": "code",
   "execution_count": 4,
   "metadata": {},
   "outputs": [],
   "source": [
    "list_1 = [1, 2, 3]\n",
    "\n",
    "assert any(list_1)\n",
    "assert not any([])\n",
    "assert not all([None])\n",
    "\n",
    "list_2 = [None,2,3]\n",
    "assert any(list_2)"
   ]
  },
  {
   "cell_type": "code",
   "execution_count": 5,
   "metadata": {},
   "outputs": [
    {
     "data": {
      "text/plain": [
       "True"
      ]
     },
     "execution_count": 5,
     "metadata": {},
     "output_type": "execute_result"
    }
   ],
   "source": [
    "dict(yellow='黃', red='赤', green='緑') == {'yellow': '黃', 'red': '赤', 'green': '緑'}"
   ]
  },
  {
   "cell_type": "code",
   "execution_count": 36,
   "metadata": {},
   "outputs": [],
   "source": [
    "assert bool('hoge')\n",
    "assert int('1_0_0') == 100\n",
    "assert str(1) == '1'\n",
    "assert dict(yellow='黃', red='赤', green='緑') == {'yellow': '黃', 'red': '赤', 'green': '緑'}\n",
    "assert float('1') == 1.0\n"
   ]
  },
  {
   "cell_type": "code",
   "execution_count": 7,
   "metadata": {},
   "outputs": [],
   "source": [
    "func = lambda x: x + 100\n",
    "assert callable(func)\n",
    "assert callable(sum)\n",
    "assert not callable('hoge')"
   ]
  },
  {
   "cell_type": "code",
   "execution_count": 8,
   "metadata": {},
   "outputs": [
    {
     "data": {
      "text/plain": [
       "['__class__',\n",
       " '__delattr__',\n",
       " '__dict__',\n",
       " '__dir__',\n",
       " '__doc__',\n",
       " '__eq__',\n",
       " '__format__',\n",
       " '__ge__',\n",
       " '__getattribute__',\n",
       " '__gt__',\n",
       " '__hash__',\n",
       " '__init__',\n",
       " '__init_subclass__',\n",
       " '__le__',\n",
       " '__lt__',\n",
       " '__module__',\n",
       " '__ne__',\n",
       " '__new__',\n",
       " '__reduce__',\n",
       " '__reduce_ex__',\n",
       " '__repr__',\n",
       " '__setattr__',\n",
       " '__sizeof__',\n",
       " '__str__',\n",
       " '__subclasshook__',\n",
       " '__weakref__',\n",
       " 'huga']"
      ]
     },
     "execution_count": 8,
     "metadata": {},
     "output_type": "execute_result"
    }
   ],
   "source": [
    "class Hoge:\n",
    "    def huga():\n",
    "        pass\n",
    "dir(Hoge)"
   ]
  },
  {
   "cell_type": "code",
   "execution_count": 9,
   "metadata": {},
   "outputs": [],
   "source": [
    "assert divmod(7, 3) == (2, 1)\n",
    "assert divmod(10, 2) == (5, 0)\n",
    "assert divmod(4.7, 2.1) == (2.0, 0.5)\n",
    "assert divmod(5.6, 3.4) == (1.0, 2.1999999999999997)\n"
   ]
  },
  {
   "cell_type": "code",
   "execution_count": 17,
   "metadata": {},
   "outputs": [
    {
     "name": "stdout",
     "output_type": "stream",
     "text": [
      "0 a\n",
      "1 b\n",
      "2 c\n"
     ]
    }
   ],
   "source": [
    "list_1 = ['a', 'b', 'c']\n",
    "assert list(enumerate(list_1)) == [(0, 'a'), (1, 'b'), (2, 'c')]\n",
    "\n",
    "for i, o in enumerate(list_1):\n",
    "    print(i, o)"
   ]
  },
  {
   "cell_type": "code",
   "execution_count": 20,
   "metadata": {},
   "outputs": [
    {
     "name": "stdout",
     "output_type": "stream",
     "text": [
      "6\n"
     ]
    }
   ],
   "source": [
    "assert eval('1 + 2') == 3\n",
    "exec('''\n",
    "a = 1 + 2\n",
    "print(a + 3)\n",
    "''')"
   ]
  },
  {
   "cell_type": "code",
   "execution_count": 28,
   "metadata": {},
   "outputs": [],
   "source": [
    "list_1 = [1, 2, 3]\n",
    "assert list(filter(lambda x: x % 2 == 0, list_1)) == [n for n in list_1 if n % 2 == 0]"
   ]
  },
  {
   "cell_type": "code",
   "execution_count": 45,
   "metadata": {},
   "outputs": [
    {
     "data": {
      "text/plain": [
       "'000000123'"
      ]
     },
     "execution_count": 45,
     "metadata": {},
     "output_type": "execute_result"
    }
   ],
   "source": [
    "str(123).zfill(9)"
   ]
  },
  {
   "cell_type": "code",
   "execution_count": 46,
   "metadata": {},
   "outputs": [],
   "source": [
    "assert format(123, '0>10d') == '0000000123' == str(123).zfill(10)\n"
   ]
  }
 ],
 "metadata": {
  "kernelspec": {
   "display_name": "Python 3",
   "language": "python",
   "name": "python3"
  },
  "language_info": {
   "codemirror_mode": {
    "name": "ipython",
    "version": 3
   },
   "file_extension": ".py",
   "mimetype": "text/x-python",
   "name": "python",
   "nbconvert_exporter": "python",
   "pygments_lexer": "ipython3",
   "version": "3.6.5"
  }
 },
 "nbformat": 4,
 "nbformat_minor": 2
}
